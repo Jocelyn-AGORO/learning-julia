{
 "cells": [
  {
   "cell_type": "markdown",
   "id": "1598e4a4",
   "metadata": {},
   "source": [
    "Getting Start with Julia"
   ]
  },
  {
   "cell_type": "code",
   "execution_count": 1,
   "id": "2b880abb",
   "metadata": {},
   "outputs": [
    {
     "name": "stdout",
     "output_type": "stream",
     "text": [
      "Hello Julia"
     ]
    }
   ],
   "source": [
    "print(\"Hello Julia\")"
   ]
  },
  {
   "cell_type": "code",
   "execution_count": 2,
   "id": "da59b5dc",
   "metadata": {},
   "outputs": [
    {
     "name": "stdout",
     "output_type": "stream",
     "text": [
      "Hello From Julia.\n"
     ]
    }
   ],
   "source": [
    "println(\"Hello From Julia.\")"
   ]
  },
  {
   "cell_type": "markdown",
   "id": "3be9f612",
   "metadata": {},
   "source": [
    "# Variables and Types"
   ]
  },
  {
   "cell_type": "code",
   "execution_count": 5,
   "id": "f60c9e45",
   "metadata": {},
   "outputs": [
    {
     "name": "stdout",
     "output_type": "stream",
     "text": [
      "Hello Worldis type String\n",
      "Jocelyn is type String\n",
      "21 is type Int64\n"
     ]
    }
   ],
   "source": [
    "# a string with two quotes\n",
    "message = \"Hello World\"\n",
    "println(message, \"is type \", typeof(message))\n",
    "# a string with triple quote\n",
    "name = \"\"\"Jocelyn\"\"\"\n",
    "println(name, \" is type \", typeof(name))\n",
    "# an integer value\n",
    "age = 21\n",
    "println(age, \" is type \", typeof(age))"
   ]
  },
  {
   "cell_type": "code",
   "execution_count": 6,
   "id": "a118e3fd",
   "metadata": {},
   "outputs": [
    {
     "name": "stdout",
     "output_type": "stream",
     "text": [
      "5.25 is type Float64\n"
     ]
    }
   ],
   "source": [
    "# define a float radius \n",
    "radius = 5.25\n",
    "println(radius, \" is type \", typeof(radius))"
   ]
  },
  {
   "cell_type": "markdown",
   "id": "2a4543a0",
   "metadata": {},
   "source": [
    "# Arithmetic Operators & Julia as Caluclator"
   ]
  },
  {
   "cell_type": "markdown",
   "id": "ee45a149",
   "metadata": {},
   "source": [
    "## Arithmetic Operators"
   ]
  },
  {
   "cell_type": "code",
   "execution_count": 9,
   "id": "40ba6481",
   "metadata": {},
   "outputs": [
    {
     "name": "stdout",
     "output_type": "stream",
     "text": [
      "a + b = 12\n",
      "a - b = 8\n",
      "a * b = 20\n",
      "a / b = 5.0\n",
      "a ^ b = 100\n",
      "5//1 + 1//5 = 26//5\n"
     ]
    }
   ],
   "source": [
    "# define two variables a and b\n",
    "a, b = 10, 2\n",
    "# addition\n",
    "result = a+b\n",
    "println(\"a + b = \",result)\n",
    "# substraction\n",
    "result = a -b\n",
    "println(\"a - b = \",result)\n",
    "# multiplication\n",
    "result = a*b\n",
    "println(\"a * b = \",result)\n",
    "# division\n",
    "result = a/b\n",
    "println(\"a / b = \",result)\n",
    "# power of\n",
    "result = a ^ b\n",
    "println(\"a ^ b = \",result)\n",
    "# fraction\n",
    "frac1 = a//b\n",
    "frac2 = b//a\n",
    "result = frac1 + frac2\n",
    "println(frac1,\" + \", frac2,\" = \",result)"
   ]
  },
  {
   "cell_type": "markdown",
   "id": "008e8f28",
   "metadata": {},
   "source": [
    "## Julia as a Calculator"
   ]
  },
  {
   "cell_type": "code",
   "execution_count": 10,
   "id": "20023fcb",
   "metadata": {},
   "outputs": [
    {
     "data": {
      "text/plain": [
       "15"
      ]
     },
     "execution_count": 10,
     "metadata": {},
     "output_type": "execute_result"
    }
   ],
   "source": [
    "5 + 10"
   ]
  },
  {
   "cell_type": "code",
   "execution_count": 11,
   "id": "45a43c18",
   "metadata": {},
   "outputs": [
    {
     "data": {
      "text/plain": [
       "-10"
      ]
     },
     "execution_count": 11,
     "metadata": {},
     "output_type": "execute_result"
    }
   ],
   "source": [
    "50 - 60"
   ]
  },
  {
   "cell_type": "code",
   "execution_count": 12,
   "id": "d5b194c4",
   "metadata": {},
   "outputs": [
    {
     "data": {
      "text/plain": [
       "27"
      ]
     },
     "execution_count": 12,
     "metadata": {},
     "output_type": "execute_result"
    }
   ],
   "source": [
    "3 * 9"
   ]
  },
  {
   "cell_type": "markdown",
   "id": "9636f0a8",
   "metadata": {},
   "source": [
    "50 / 2"
   ]
  },
  {
   "cell_type": "code",
   "execution_count": 14,
   "id": "9f481dfb",
   "metadata": {},
   "outputs": [
    {
     "data": {
      "text/plain": [
       "32"
      ]
     },
     "execution_count": 14,
     "metadata": {},
     "output_type": "execute_result"
    }
   ],
   "source": [
    " 2 ^ 5"
   ]
  },
  {
   "cell_type": "code",
   "execution_count": 15,
   "id": "025e56e2",
   "metadata": {},
   "outputs": [
    {
     "data": {
      "text/plain": [
       "7//6"
      ]
     },
     "execution_count": 15,
     "metadata": {},
     "output_type": "execute_result"
    }
   ],
   "source": [
    "1//2 + 2//3"
   ]
  },
  {
   "cell_type": "markdown",
   "id": "0e7e37dc",
   "metadata": {},
   "source": [
    "# Datastructure in Julia"
   ]
  },
  {
   "cell_type": "markdown",
   "id": "c07b2979",
   "metadata": {},
   "source": [
    "# Similar to Python there is four basic datastructure \n",
    "\n",
    "- Arrays\n",
    "- Tuples\n",
    "- Dictionnaries\n",
    "- Sets"
   ]
  },
  {
   "cell_type": "code",
   "execution_count": 22,
   "id": "5113287f",
   "metadata": {},
   "outputs": [
    {
     "name": "stdout",
     "output_type": "stream",
     "text": [
      "[2, 4, 8, 16, 32, 64, 128, 256] is type Vector{Int64}\n",
      "[\"Hello\", \"World\", \"from\", \"Julia\"] is type Vector{String}\n",
      "Any[\"I'm Jocelyn \", \", I'm \", 21, \" year old.\"] is type Vector{Any}\n"
     ]
    }
   ],
   "source": [
    "# array of elements of the same data type\n",
    "squares = [2, 4, 8, 16, 32, 64, 128, 256]\n",
    "println(squares, \" is type \", typeof(squares))\n",
    "# array of strings\n",
    "words = [\"Hello\", \"World\", \"from\", \"Julia\"]\n",
    "println(words, \" is type \", typeof(words))\n",
    "# mix data type array\n",
    "mix = [\"I'm Jocelyn \", \", I'm \", 21, \" year old.\"]\n",
    "println(mix, \" is type \", typeof(mix))"
   ]
  },
  {
   "cell_type": "code",
   "execution_count": 25,
   "id": "9e8ad6e3",
   "metadata": {},
   "outputs": [
    {
     "name": "stdout",
     "output_type": "stream",
     "text": [
      "(1, 2, 3, 4) is type NTuple{4, Int64}\n",
      "(\"I'm Jocelyn \", \", I'm \", 21, \" year old.\") is type Tuple{String, String, Int64, String}\n"
     ]
    }
   ],
   "source": [
    "my_tuple = (1, 2, 3,4)\n",
    "println(my_tuple, \" is type \", typeof(my_tuple))\n",
    "mix_tuple = (\"I'm Jocelyn \", \", I'm \", 21, \" year old.\")\n",
    "println(mix_tuple, \" is type \", typeof(mix_tuple))"
   ]
  },
  {
   "cell_type": "code",
   "execution_count": 32,
   "id": "bf9a4dc8",
   "metadata": {},
   "outputs": [
    {
     "name": "stdout",
     "output_type": "stream",
     "text": [
      "Dict{String, Any}(\"interests\" => [\"C/C++\", \"Python\", \"Django\", \"Data Science\"], \"lastname\" => \"AGORO\", \"age\" => 21, \"fisrtname\" => \"Jocelyn\")\n",
      "Interests: \n",
      "[\"C/C++\", \"Python\", \"Django\", \"Data Science\"]\n",
      "Keys : [\"interests\", \"lastname\", \"age\", \"fisrtname\"]\n",
      "Values : Any[[\"C/C++\", \"Python\", \"Django\", \"Data Science\"], \"AGORO\", 21, \"Jocelyn\"]\n"
     ]
    }
   ],
   "source": [
    "my_dict = Dict(\n",
    "    \"lastname\" => \"AGORO\",\n",
    "    \"fisrtname\" => \"Jocelyn\",\n",
    "    \"age\" => 21,\n",
    "    \"interests\" => [\"C/C++\", \"Python\", \"Django\", \"Data Science\"]\n",
    ")\n",
    "println(my_dict)\n",
    "println(\"Interests: \\n\", my_dict[\"interests\"])\n",
    "println(\"Keys : \", keys(my_dict))\n",
    "println(\"Values : \", values(my_dict))"
   ]
  },
  {
   "cell_type": "code",
   "execution_count": 37,
   "id": "79d9c03c",
   "metadata": {},
   "outputs": [
    {
     "name": "stdout",
     "output_type": "stream",
     "text": [
      "Set([\"B\", \"A\", \"C\", \"D\"])\n",
      "Set([\"Y\", \"B\", \"A\", \"Z\", \"C\", \"D\"])\n",
      "Intersection : Set([\"A\"])\n"
     ]
    }
   ],
   "source": [
    "my_set = Set([\"A\", \"B\", \"C\", \"D\"])\n",
    "println(my_set)\n",
    "set2 = Set([\"A\", \"Y\", \"Z\"])\n",
    "result = union(my_set, set2)\n",
    "println(result)\n",
    "result = intersect(my_set, set2)\n",
    "println(\"Intersection : \", result)"
   ]
  },
  {
   "cell_type": "markdown",
   "id": "a5c80a22",
   "metadata": {},
   "source": [
    "# Loops and Control Flow\n",
    "\n",
    "* while loop\n",
    "* for loop\n",
    "* if statment"
   ]
  },
  {
   "cell_type": "code",
   "execution_count": 44,
   "id": "ac202496",
   "metadata": {},
   "outputs": [
    {
     "name": "stdout",
     "output_type": "stream",
     "text": [
      "i has the value 1\n",
      "i has the value 2\n",
      "i has the value 3\n",
      "i has the value 4\n",
      "i has the value 5\n",
      "\n",
      "\n",
      "2 * 1 = 2\n",
      "2 * 2 = 4\n",
      "2 * 3 = 6\n",
      "2 * 4 = 8\n",
      "2 * 5 = 10\n",
      "2 * 6 = 12\n",
      "2 * 7 = 14\n",
      "2 * 8 = 16\n",
      "2 * 9 = 18\n",
      "2 * 10 = 20\n"
     ]
    }
   ],
   "source": [
    "# basic \n",
    "i = 1\n",
    "while i <= 5\n",
    "    println(\"i has the value \", i)\n",
    "    i += 1\n",
    "end \n",
    "println(\"\\n\")\n",
    "# range based for\n",
    "for value in 1:10\n",
    "    println(\"2 * $value = \", 2*value)\n",
    "end    "
   ]
  },
  {
   "cell_type": "code",
   "execution_count": 52,
   "id": "3a24d21f",
   "metadata": {},
   "outputs": [
    {
     "name": "stdout",
     "output_type": "stream",
     "text": [
      "stdin> 21\n",
      "What is your age : \n",
      "Welcome !!!\n"
     ]
    }
   ],
   "source": [
    "# if statement\n",
    "println(\"What is your age : \")\n",
    "age = readline()\n",
    "age = parse(Int, age)\n",
    "\n",
    "if age >= 18\n",
    "    println(\"Welcome !!!\")\n",
    "else\n",
    "    println(\"You are not allowed to enter here\")\n",
    "end"
   ]
  },
  {
   "cell_type": "markdown",
   "id": "434b6a1b",
   "metadata": {},
   "source": [
    "# Functions"
   ]
  },
  {
   "cell_type": "code",
   "execution_count": 64,
   "id": "71336559",
   "metadata": {},
   "outputs": [
    {
     "name": "stdout",
     "output_type": "stream",
     "text": [
      "Hello World\n",
      "Hello World\n",
      "Hello Jocelyn\n",
      "15\n",
      "Circle has 78.5 cm²\n",
      "Circle has 78.53981633974483 cm²\n"
     ]
    }
   ],
   "source": [
    "# get started with functions\n",
    "function hello(message)\n",
    "    println(message)\n",
    "end\n",
    "hello(\"Hello World\")\n",
    "# default parameter\n",
    "function say_something(message=\"Hello\", name=\"World\")\n",
    "    println(message,\" \" ,name)\n",
    "end\n",
    "say_something()\n",
    "say_something(\"Hello\",\"Jocelyn\")\n",
    "# args in julia\n",
    "function sum_first_three(args)\n",
    "    first_three = args[1:3]\n",
    "    println(sum(first_three))\n",
    "end\n",
    "sum_first_three(4:10)\n",
    "# kwargs(keyword arguments) in julia\n",
    "function circle_area(radius; pi=3.14)\n",
    "    return radius ^ 2 * pi\n",
    "end\n",
    "println(\"Circle has \", circle_area(5),\" cm²\")\n",
    "println(\"Circle has \", circle_area(5, pi=pi),\" cm²\")"
   ]
  },
  {
   "cell_type": "code",
   "execution_count": null,
   "id": "6d0fc763",
   "metadata": {},
   "outputs": [],
   "source": []
  },
  {
   "cell_type": "code",
   "execution_count": null,
   "id": "e6d065e7",
   "metadata": {},
   "outputs": [],
   "source": []
  }
 ],
 "metadata": {
  "kernelspec": {
   "display_name": "Julia 1.7.2",
   "language": "julia",
   "name": "julia-1.7"
  },
  "language_info": {
   "file_extension": ".jl",
   "mimetype": "application/julia",
   "name": "julia",
   "version": "1.7.2"
  }
 },
 "nbformat": 4,
 "nbformat_minor": 5
}
